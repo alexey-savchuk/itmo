{
 "cells": [
  {
   "cell_type": "code",
   "execution_count": 1,
   "metadata": {},
   "outputs": [],
   "source": [
    "from dataclasses import dataclass\n",
    "from datetime import datetime\n",
    "from abc import ABC, abstractmethod"
   ]
  },
  {
   "cell_type": "code",
   "execution_count": 2,
   "metadata": {},
   "outputs": [],
   "source": [
    "@dataclass\n",
    "class Route:\n",
    "    id: int\n",
    "    origin: str\n",
    "    destination: str\n",
    "    time: datetime\n",
    "    price: int\n",
    "\n",
    "@dataclass\n",
    "class Passenger:\n",
    "    id: int\n",
    "    name: str\n",
    "\n",
    "@dataclass\n",
    "class User:\n",
    "    id: int\n",
    "    email: str"
   ]
  },
  {
   "cell_type": "code",
   "execution_count": 3,
   "metadata": {},
   "outputs": [],
   "source": [
    "class PaymentMethod(ABC):\n",
    "    @abstractmethod\n",
    "    def pay(self) -> str:\n",
    "        pass"
   ]
  },
  {
   "cell_type": "code",
   "execution_count": 4,
   "metadata": {},
   "outputs": [],
   "source": [
    "class CardPaymentMethod(PaymentMethod):\n",
    "    def pay(self):\n",
    "        return \"картой💳\"\n",
    "\n",
    "class EWalletPaymentMethod(PaymentMethod):\n",
    "    def pay(self):\n",
    "        return \"эл. кошельком🌐\"\n",
    "\n",
    "class SMSPaymentMethod(PaymentMethod):\n",
    "    def pay(self):\n",
    "        return \"по SMS📩\""
   ]
  },
  {
   "cell_type": "code",
   "execution_count": 5,
   "metadata": {},
   "outputs": [],
   "source": [
    "@dataclass\n",
    "class PaymentRequest:\n",
    "    route: Route = None\n",
    "    passengers: list[Passenger] = None\n",
    "    payment_method: PaymentMethod = None\n",
    "\n",
    "    def execute(self):\n",
    "        print(f\"\"\"билет на поездку из \"{self.route.origin}\" в \"{self.route.destination}\" \\\n",
    "за {self.route.price} рублей и оплата {self.payment_method.pay()}, пассажиры {self.passengers}\"\"\")"
   ]
  },
  {
   "cell_type": "code",
   "execution_count": 6,
   "metadata": {},
   "outputs": [],
   "source": [
    "class PaymentRequestBuilder:\n",
    "    def __init__(self):\n",
    "        self.request = PaymentRequest()\n",
    "\n",
    "    def is_valid(self) -> bool:\n",
    "        return all((\n",
    "            self.request.passengers is not None and len(self.request.passengers) > 0,\n",
    "            self.request.route is not None,\n",
    "            self.request.payment_method is not None,\n",
    "        ))\n",
    "\n",
    "    def build(self):\n",
    "        if not self.is_valid():\n",
    "            raise RuntimeError(\"try to build invalid request\")\n",
    "        return self.request\n",
    "\n",
    "    def add_passenger(self, passenger):\n",
    "        if self.request.passengers is None:\n",
    "            self.request.passengers = []\n",
    "        self.request.passengers.append(passenger)\n",
    "\n",
    "    def set_route(self, route):\n",
    "        self.request.route = route\n",
    "\n",
    "    def set_payment_method(self, payment_method):\n",
    "        self.request.payment_method = payment_method"
   ]
  },
  {
   "cell_type": "code",
   "execution_count": 7,
   "metadata": {},
   "outputs": [
    {
     "name": "stdout",
     "output_type": "stream",
     "text": [
      "билет на поездку из \"Санкт-Петербург\" в \"Петергоф\" за 150 рублей и оплата картой💳, пассажиры [Passenger(id=1, name='Иван Иванов'), Passenger(id=1, name='Петр Петров')]\n",
      "билет на поездку из \"Санкт-Петербург\" в \"Петергоф\" за 150 рублей и оплата эл. кошельком🌐, пассажиры [Passenger(id=1, name='Иван Иванов'), Passenger(id=1, name='Петр Петров')]\n",
      "билет на поездку из \"Санкт-Петербург\" в \"Петергоф\" за 150 рублей и оплата по SMS📩, пассажиры [Passenger(id=1, name='Иван Иванов'), Passenger(id=1, name='Петр Петров')]\n"
     ]
    }
   ],
   "source": [
    "builder = PaymentRequestBuilder()\n",
    "\n",
    "builder.set_route(Route(1, \"Санкт-Петербург\", \"Петергоф\", datetime.now(), 150))\n",
    "builder.add_passenger(Passenger(1, \"Иван Иванов\"))\n",
    "builder.add_passenger(Passenger(1, \"Петр Петров\"))\n",
    "builder.set_payment_method(CardPaymentMethod())\n",
    "\n",
    "request = builder.build()\n",
    "request.execute()\n",
    "\n",
    "builder.set_payment_method(EWalletPaymentMethod())\n",
    "\n",
    "request = builder.build()\n",
    "request.execute()\n",
    "\n",
    "builder.set_payment_method(SMSPaymentMethod())\n",
    "\n",
    "request = builder.build()\n",
    "request.execute()"
   ]
  }
 ],
 "metadata": {
  "kernelspec": {
   "display_name": "Python 3",
   "language": "python",
   "name": "python3"
  },
  "language_info": {
   "codemirror_mode": {
    "name": "ipython",
    "version": 3
   },
   "file_extension": ".py",
   "mimetype": "text/x-python",
   "name": "python",
   "nbconvert_exporter": "python",
   "pygments_lexer": "ipython3",
   "version": "3.12.6"
  }
 },
 "nbformat": 4,
 "nbformat_minor": 2
}
