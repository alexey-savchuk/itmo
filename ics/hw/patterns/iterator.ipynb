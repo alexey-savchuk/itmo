{
 "cells": [
  {
   "cell_type": "code",
   "execution_count": 1,
   "metadata": {},
   "outputs": [],
   "source": [
    "from dataclasses import dataclass\n",
    "from datetime import datetime"
   ]
  },
  {
   "cell_type": "code",
   "execution_count": 2,
   "metadata": {},
   "outputs": [],
   "source": [
    "@dataclass\n",
    "class Route:\n",
    "    id: int\n",
    "    origin: str\n",
    "    destination: str\n",
    "    time: datetime\n",
    "\n",
    "class RoutesRepoIterator:\n",
    "    def __init__(self, routes, index) -> None:\n",
    "        self.routes = routes\n",
    "        self.index = index\n",
    "\n",
    "    def __iter__(self):\n",
    "        return self\n",
    "\n",
    "    def __next__(self):\n",
    "        if self.index == len(self.routes):\n",
    "            raise StopIteration\n",
    "        self.index += 1\n",
    "        return self.routes[self.index - 1]\n",
    "\n",
    "class RoutesRepo:\n",
    "\n",
    "    def __init__(self):\n",
    "        self.routes = [\n",
    "            Route(1, \"Санкт-Петурбург\", \"Гатчина\", datetime.now()),\n",
    "            Route(2, \"Пушкин\", \"Гатчина\", datetime.now()),\n",
    "            Route(3, \"Петергоф\", \"Санкт-Петербург\", datetime.now())\n",
    "        ]\n",
    "\n",
    "    def __iter__(self):\n",
    "        return RoutesRepoIterator(self.routes, 0)"
   ]
  },
  {
   "cell_type": "code",
   "execution_count": 3,
   "metadata": {},
   "outputs": [
    {
     "name": "stdout",
     "output_type": "stream",
     "text": [
      "Route(id=1, origin='Санкт-Петурбург', destination='Гатчина', time=datetime.datetime(2024, 10, 2, 0, 58, 11, 962129))\n",
      "Route(id=2, origin='Пушкин', destination='Гатчина', time=datetime.datetime(2024, 10, 2, 0, 58, 11, 962162))\n",
      "Route(id=3, origin='Петергоф', destination='Санкт-Петербург', time=datetime.datetime(2024, 10, 2, 0, 58, 11, 962163))\n"
     ]
    }
   ],
   "source": [
    "repo = RoutesRepo()\n",
    "\n",
    "for route in repo:\n",
    "    print(route)"
   ]
  }
 ],
 "metadata": {
  "kernelspec": {
   "display_name": "Python 3",
   "language": "python",
   "name": "python3"
  },
  "language_info": {
   "codemirror_mode": {
    "name": "ipython",
    "version": 3
   },
   "file_extension": ".py",
   "mimetype": "text/x-python",
   "name": "python",
   "nbconvert_exporter": "python",
   "pygments_lexer": "ipython3",
   "version": "3.12.6"
  }
 },
 "nbformat": 4,
 "nbformat_minor": 2
}
